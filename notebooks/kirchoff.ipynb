{
  "metadata": {
    "language_info": {
      "name": ""
    },
    "kernelspec": {
      "name": "python",
      "display_name": "Python (Pyodide)",
      "language": "python"
    }
  },
  "nbformat_minor": 4,
  "nbformat": 4,
  "cells": [
    {
      "cell_type": "markdown",
      "source": "# Resolução de Modelos de Circuitos Elétricos em Sistemas Lineares pelo Sympy\n\nO circuito representado pela figura:\n\n![](https://diegoascanio.github.io/ace-aula-03/img/circuito_final.png)\n\nPode ser modelado pelas leis de kirchoff da corrente e da tensão para o seguinte sistema de equações lineares:\n\n$$\n\\begin{cases}\n    &1 i_{0} - 1 i_{1} - 1 i_{2} + 0 i_{3} + 0 i_{4} + 0 i_{5} &= 0\\\\\n    &0 i_{0} + 0 i_{1} + 1 i_{2} - 1 i_{3} - 1 i_{4} + 0 i_{5} &= 0\\\\\n    &0 i_{0} - 1 i_{1} + 0 i_{2} - 1 i_{3} + 0 i_{4} + 1 i_{5} &= 0\\\\\n    &0 i_{0} + 0 i_{1} - R i_{2} + 0 i_{3} - 15 i_{4} + 0 i_{5} &= -350\\\\\n    &0 i_{0} - 50 i_{1} + R i_{2} + 15 i_{3} + 0 i_{4} + 0 i_{5} &= 0\\\\\n    &0 i_{0} + 0 i_{1} + 0 i_{2} - 15 i_{3} + 15 i_{4} - 20 i_{5} &= 0\\\\\n\\end{cases}\n$$\n\nA matriz extendida composta pela matriz de coeficientes das variáveis dos sistemas e de seus termos independentes é dada por:\n\n$$\n\\begin{bmatrix}\n    1 & -1 & -1 & 0 & 0 & 0 & 0\\\\\n    0 & 0 & 1 & -1 & -1 & 0 & 0\\\\\n    0 & -1 & 0 & -1 & 0 & 1 & 0\\\\\n    0 & 0 & -R & 0 & -15 & 0 & -350\\\\\n    0 & -50 & R & 15 & 0 & 0 & 0\\\\\n    0 & 0 & 0 & -15 & 15 & -20 & 0\n\\end{bmatrix}\n$$\n\nO SymPy é uma biblioteca em python que permite realizar álgebra simbólica, ou seja, considerar as variáveis apenas pelos seus símbolos, sem a necessidade de atribuir valores.\n\nPara usarmos a biblioteca sympy no jupyter lite é necessário instalá-la primeiro:\n",
      "metadata": {}
    },
    {
      "cell_type": "code",
      "source": "%pip install sympy",
      "metadata": {
        "trusted": true
      },
      "execution_count": null,
      "outputs": []
    },
    {
      "cell_type": "markdown",
      "source": "Uma vez que a biblioteca foi instalada, devemos importar os recursos que oferece e definir a matriz extendida que representa nosso sistema:",
      "metadata": {}
    }
  ]
}